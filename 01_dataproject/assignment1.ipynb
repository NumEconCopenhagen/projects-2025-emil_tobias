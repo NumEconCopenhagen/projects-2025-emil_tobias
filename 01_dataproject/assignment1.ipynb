{
 "cells": [
  {
   "cell_type": "markdown",
   "id": "3a1e2354",
   "metadata": {},
   "source": [
    "# Project 1: Data Analysis project"
   ]
  },
  {
   "cell_type": "markdown",
   "id": "0759b27d",
   "metadata": {},
   "source": [
    "Authors: \n",
    "\n",
    "Emil Rand Friis-Hasché (rds484)\n",
    "\n",
    "Tobias Frium Jordhøi (mqz151)"
   ]
  },
  {
   "cell_type": "markdown",
   "id": "9b16148b",
   "metadata": {},
   "source": [
    "## 1 Aggregate inflation in Denmark"
   ]
  },
  {
   "cell_type": "markdown",
   "id": "fc173516",
   "metadata": {},
   "source": [
    "### 1.1 Basics"
   ]
  },
  {
   "cell_type": "markdown",
   "id": "c1a3f55f",
   "metadata": {},
   "source": [
    "We first install the packages required to import tables from *DST* (Denmarks Statistics) and *FRED* (Federal Reserve Economic Data). To install *uncomment* code below."
   ]
  },
  {
   "cell_type": "code",
   "execution_count": 11,
   "id": "bccff52c",
   "metadata": {},
   "outputs": [],
   "source": [
    "# %pip install git+https://github.com/alemartinello/dstapi\n",
    "# %pip install fredapi"
   ]
  },
  {
   "cell_type": "markdown",
   "id": "561aecae",
   "metadata": {},
   "source": [
    "We now import the relevant API's and python packages to perform data analysis."
   ]
  },
  {
   "cell_type": "code",
   "execution_count": 12,
   "id": "9c8aca1a",
   "metadata": {},
   "outputs": [],
   "source": [
    "# a. Data analysis\n",
    "import numpy as np\n",
    "import pandas as pd\n",
    "\n",
    "# b. APIs\n",
    "from fredapi import Fred\n",
    "from dstapi import DstApi\n",
    "\n",
    "# c. Plotting + styling settings\n",
    "import matplotlib.pyplot as plt\n",
    "colors = plt.rcParams['axes.prop_cycle'].by_key()['color']\n",
    "plt.rcParams.update({'axes.grid':True,'grid.color':'black','grid.alpha':'0.25','grid.linestyle':'--'})\n",
    "plt.rcParams.update({'font.size': 14})"
   ]
  },
  {
   "cell_type": "markdown",
   "id": "f58789dd",
   "metadata": {},
   "source": [
    "We first check the variables in the table PRIS113 from DST. "
   ]
  },
  {
   "cell_type": "code",
   "execution_count": 18,
   "id": "afa412ae",
   "metadata": {},
   "outputs": [
    {
     "name": "stdout",
     "output_type": "stream",
     "text": [
      "Table PRIS113: Consumer price index by type and time\n",
      "Last update: 2025-10-10T08:00:00\n"
     ]
    },
    {
     "data": {
      "text/html": [
       "<div>\n",
       "<style scoped>\n",
       "    .dataframe tbody tr th:only-of-type {\n",
       "        vertical-align: middle;\n",
       "    }\n",
       "\n",
       "    .dataframe tbody tr th {\n",
       "        vertical-align: top;\n",
       "    }\n",
       "\n",
       "    .dataframe thead th {\n",
       "        text-align: right;\n",
       "    }\n",
       "</style>\n",
       "<table border=\"1\" class=\"dataframe\">\n",
       "  <thead>\n",
       "    <tr style=\"text-align: right;\">\n",
       "      <th></th>\n",
       "      <th>variable name</th>\n",
       "      <th># values</th>\n",
       "      <th>First value</th>\n",
       "      <th>First value label</th>\n",
       "      <th>Last value</th>\n",
       "      <th>Last value label</th>\n",
       "      <th>Time variable</th>\n",
       "    </tr>\n",
       "  </thead>\n",
       "  <tbody>\n",
       "    <tr>\n",
       "      <th>0</th>\n",
       "      <td>TYPE</td>\n",
       "      <td>1</td>\n",
       "      <td>INDEKS</td>\n",
       "      <td>Consumer price index</td>\n",
       "      <td>INDEKS</td>\n",
       "      <td>Consumer price index</td>\n",
       "      <td>False</td>\n",
       "    </tr>\n",
       "    <tr>\n",
       "      <th>1</th>\n",
       "      <td>Tid</td>\n",
       "      <td>549</td>\n",
       "      <td>1980M01</td>\n",
       "      <td>1980M01</td>\n",
       "      <td>2025M09</td>\n",
       "      <td>2025M09</td>\n",
       "      <td>True</td>\n",
       "    </tr>\n",
       "  </tbody>\n",
       "</table>\n",
       "</div>"
      ],
      "text/plain": [
       "  variable name  # values First value     First value label Last value  \\\n",
       "0          TYPE         1      INDEKS  Consumer price index     INDEKS   \n",
       "1           Tid       549     1980M01               1980M01    2025M09   \n",
       "\n",
       "       Last value label  Time variable  \n",
       "0  Consumer price index          False  \n",
       "1               2025M09           True  "
      ]
     },
     "execution_count": 18,
     "metadata": {},
     "output_type": "execute_result"
    }
   ],
   "source": [
    "# a. Import data PRIS113 from DST\n",
    "PRIS113 = DstApi(\"PRIS113\")\n",
    "\n",
    "# b. Table summary\n",
    "PRIS113.tablesummary(language='en')"
   ]
  },
  {
   "cell_type": "markdown",
   "id": "21d76367",
   "metadata": {},
   "source": [
    "Now we can (1) index the CPI to 100 on average in 2020, (2) calculate the month to month inflation rate as $\\pi_t = P_t / P_{t-1} -1$ and (3) the 12 month inflation rate $\\pi_t^{12} = P_t / P_{t-12} -1$. "
   ]
  },
  {
   "cell_type": "code",
   "execution_count": null,
   "id": "2d34d99f",
   "metadata": {},
   "outputs": [],
   "source": []
  },
  {
   "cell_type": "markdown",
   "id": "f1b8b3f4",
   "metadata": {},
   "source": [
    "### 1.2 Instantaneous inflation"
   ]
  },
  {
   "cell_type": "markdown",
   "id": "3aa8845d",
   "metadata": {},
   "source": [
    "### 1.3 Core inflation"
   ]
  },
  {
   "cell_type": "markdown",
   "id": "94854b5c",
   "metadata": {},
   "source": [
    "### 1.4 Diaggregated inflation in Denmark"
   ]
  },
  {
   "cell_type": "markdown",
   "id": "75bfbe44",
   "metadata": {},
   "source": [
    "## 2 International Comparison"
   ]
  },
  {
   "cell_type": "markdown",
   "id": "09c1f846",
   "metadata": {},
   "source": [
    "### 2.1 CPI vs. HICP"
   ]
  },
  {
   "cell_type": "markdown",
   "id": "cbba4613",
   "metadata": {},
   "source": [
    "### 2.2 Across countries"
   ]
  },
  {
   "cell_type": "markdown",
   "id": "1eacc39e",
   "metadata": {},
   "source": [
    "## 3 Extension"
   ]
  },
  {
   "cell_type": "markdown",
   "id": "77564353",
   "metadata": {},
   "source": []
  }
 ],
 "metadata": {
  "kernelspec": {
   "display_name": "base",
   "language": "python",
   "name": "python3"
  },
  "language_info": {
   "codemirror_mode": {
    "name": "ipython",
    "version": 3
   },
   "file_extension": ".py",
   "mimetype": "text/x-python",
   "name": "python",
   "nbconvert_exporter": "python",
   "pygments_lexer": "ipython3",
   "version": "3.13.5"
  }
 },
 "nbformat": 4,
 "nbformat_minor": 5
}
